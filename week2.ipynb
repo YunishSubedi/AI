{
  "cells": [
    {
      "cell_type": "code",
      "execution_count": 6,
      "metadata": {
        "colab": {
          "base_uri": "https://localhost:8080/"
        },
        "id": "Gf1autR2b2ol",
        "outputId": "8191a950-2aa1-4d4c-d601-81a6a8fd0b3f"
      },
      "outputs": [
        {
          "output_type": "stream",
          "name": "stdout",
          "text": [
            "0    10\n",
            "1    20\n",
            "2    30\n",
            "3    40\n",
            "dtype: int64\n"
          ]
        }
      ],
      "source": [
        "\n",
        "import pandas as pd\n",
        "# Creating a simple Series\n",
        "data = [10 , 20 , 30 , 40]\n",
        "series = pd.Series(data)\n",
        "print(series)\n"
      ]
    },
    {
      "cell_type": "code",
      "execution_count": 7,
      "metadata": {
        "colab": {
          "base_uri": "https://localhost:8080/"
        },
        "id": "c0ULEez1b2oo",
        "outputId": "715e1c09-a042-49af-861f-bb21f2c8578d"
      },
      "outputs": [
        {
          "output_type": "stream",
          "name": "stdout",
          "text": [
            "RangeIndex(start=0, stop=3, step=1)\n"
          ]
        }
      ],
      "source": [
        "series = pd.Series([10,20,30])\n",
        "print(series.index)"
      ]
    },
    {
      "cell_type": "code",
      "execution_count": 8,
      "metadata": {
        "colab": {
          "base_uri": "https://localhost:8080/"
        },
        "id": "anqTUzaeb2oo",
        "outputId": "b58c2bd0-59a1-4485-c4d8-9b2ec4ae8d5e"
      },
      "outputs": [
        {
          "output_type": "stream",
          "name": "stdout",
          "text": [
            "a    10\n",
            "b    20\n",
            "c    30\n",
            "dtype: int64\n"
          ]
        }
      ],
      "source": [
        "series = pd.Series([10 , 20 , 30], index=['a','b','c'])\n",
        "print(series)"
      ]
    },
    {
      "cell_type": "code",
      "execution_count": 9,
      "metadata": {
        "colab": {
          "base_uri": "https://localhost:8080/"
        },
        "id": "LHwObPGFb2oo",
        "outputId": "b6009936-dc9a-4fc9-aedb-83d1022e2473"
      },
      "outputs": [
        {
          "output_type": "stream",
          "name": "stdout",
          "text": [
            "DatetimeIndex(['2023-01-01', '2023-01-02', '2023-01-03'], dtype='datetime64[ns]', freq='D')\n",
            "2023-01-01    10\n",
            "2023-01-02    20\n",
            "2023-01-03    30\n",
            "Freq: D, dtype: int64\n"
          ]
        }
      ],
      "source": [
        "dates = pd.date_range('2023-01-01',periods=3)\n",
        "series = pd.Series([10,20,30], index=dates)\n",
        "print(dates)\n",
        "print(series)"
      ]
    },
    {
      "cell_type": "code",
      "execution_count": 10,
      "metadata": {
        "colab": {
          "base_uri": "https://localhost:8080/"
        },
        "id": "ByFT8mKsb2op",
        "outputId": "bbfd9517-a015-48ca-9379-2c8a12323f4e"
      },
      "outputs": [
        {
          "output_type": "stream",
          "name": "stdout",
          "text": [
            "  index  A\n",
            "0  row1  1\n",
            "1  row2  2\n"
          ]
        }
      ],
      "source": [
        "series.index = ['x','y','z']\n",
        "df = pd.DataFrame ({ 'A': [1 , 2]} , index =[ 'row1', 'row2'])\n",
        "df.reset_index ( inplace = True ) #converts index into column\n",
        "print(df)"
      ]
    },
    {
      "cell_type": "code",
      "execution_count": 11,
      "metadata": {
        "colab": {
          "base_uri": "https://localhost:8080/"
        },
        "id": "3x2ezqvtb2op",
        "outputId": "63e5e774-1444-417d-f939-47b819c5f0bc"
      },
      "outputs": [
        {
          "output_type": "stream",
          "name": "stdout",
          "text": [
            "            Bob           Sue\n",
            "0   I liked it.  Pretty good.\n",
            "1  It was awful        Bland.\n",
            "                    Bob           Sue\n",
            "Product A   I liked it.  Pretty good.\n",
            "Product B  It was awful        Bland.\n"
          ]
        }
      ],
      "source": [
        "df1 = pd.DataFrame({'Bob': ['I liked it.', 'It was awful'], 'Sue': ['Pretty good.', 'Bland.']})\n",
        "df2 = pd.DataFrame({'Bob': ['I liked it.', 'It was awful'], 'Sue': ['Pretty good.', 'Bland.']}, index=['Product A', 'Product B'])\n",
        "print(df1)\n",
        "print(df2)"
      ]
    },
    {
      "cell_type": "code",
      "execution_count": 36,
      "metadata": {
        "colab": {
          "base_uri": "https://localhost:8080/",
          "height": 206
        },
        "id": "715fHJ7Pb2op",
        "outputId": "0025b912-2fa3-4dfe-ea26-8721c947c14d"
      },
      "outputs": [
        {
          "output_type": "execute_result",
          "data": {
            "text/plain": [
              "       age           job   marital  education default  balance housing loan  \\\n",
              "45206   51    technician   married   tertiary      no      825      no   no   \n",
              "45207   71       retired  divorced    primary      no     1729      no   no   \n",
              "45208   72       retired   married  secondary      no     5715      no   no   \n",
              "45209   57   blue-collar   married  secondary      no      668      no   no   \n",
              "45210   37  entrepreneur   married  secondary      no     2971      no   no   \n",
              "\n",
              "         contact  day month  duration  campaign  pdays  previous poutcome    y  \n",
              "45206   cellular   17   nov       977         3     -1         0  unknown  yes  \n",
              "45207   cellular   17   nov       456         2     -1         0  unknown  yes  \n",
              "45208   cellular   17   nov      1127         5    184         3  success  yes  \n",
              "45209  telephone   17   nov       508         4     -1         0  unknown   no  \n",
              "45210   cellular   17   nov       361         2    188        11    other   no  "
            ],
            "text/html": [
              "\n",
              "  <div id=\"df-e79eba6e-e318-4f75-9c3e-ae761748c63b\" class=\"colab-df-container\">\n",
              "    <div>\n",
              "<style scoped>\n",
              "    .dataframe tbody tr th:only-of-type {\n",
              "        vertical-align: middle;\n",
              "    }\n",
              "\n",
              "    .dataframe tbody tr th {\n",
              "        vertical-align: top;\n",
              "    }\n",
              "\n",
              "    .dataframe thead th {\n",
              "        text-align: right;\n",
              "    }\n",
              "</style>\n",
              "<table border=\"1\" class=\"dataframe\">\n",
              "  <thead>\n",
              "    <tr style=\"text-align: right;\">\n",
              "      <th></th>\n",
              "      <th>age</th>\n",
              "      <th>job</th>\n",
              "      <th>marital</th>\n",
              "      <th>education</th>\n",
              "      <th>default</th>\n",
              "      <th>balance</th>\n",
              "      <th>housing</th>\n",
              "      <th>loan</th>\n",
              "      <th>contact</th>\n",
              "      <th>day</th>\n",
              "      <th>month</th>\n",
              "      <th>duration</th>\n",
              "      <th>campaign</th>\n",
              "      <th>pdays</th>\n",
              "      <th>previous</th>\n",
              "      <th>poutcome</th>\n",
              "      <th>y</th>\n",
              "    </tr>\n",
              "  </thead>\n",
              "  <tbody>\n",
              "    <tr>\n",
              "      <th>45206</th>\n",
              "      <td>51</td>\n",
              "      <td>technician</td>\n",
              "      <td>married</td>\n",
              "      <td>tertiary</td>\n",
              "      <td>no</td>\n",
              "      <td>825</td>\n",
              "      <td>no</td>\n",
              "      <td>no</td>\n",
              "      <td>cellular</td>\n",
              "      <td>17</td>\n",
              "      <td>nov</td>\n",
              "      <td>977</td>\n",
              "      <td>3</td>\n",
              "      <td>-1</td>\n",
              "      <td>0</td>\n",
              "      <td>unknown</td>\n",
              "      <td>yes</td>\n",
              "    </tr>\n",
              "    <tr>\n",
              "      <th>45207</th>\n",
              "      <td>71</td>\n",
              "      <td>retired</td>\n",
              "      <td>divorced</td>\n",
              "      <td>primary</td>\n",
              "      <td>no</td>\n",
              "      <td>1729</td>\n",
              "      <td>no</td>\n",
              "      <td>no</td>\n",
              "      <td>cellular</td>\n",
              "      <td>17</td>\n",
              "      <td>nov</td>\n",
              "      <td>456</td>\n",
              "      <td>2</td>\n",
              "      <td>-1</td>\n",
              "      <td>0</td>\n",
              "      <td>unknown</td>\n",
              "      <td>yes</td>\n",
              "    </tr>\n",
              "    <tr>\n",
              "      <th>45208</th>\n",
              "      <td>72</td>\n",
              "      <td>retired</td>\n",
              "      <td>married</td>\n",
              "      <td>secondary</td>\n",
              "      <td>no</td>\n",
              "      <td>5715</td>\n",
              "      <td>no</td>\n",
              "      <td>no</td>\n",
              "      <td>cellular</td>\n",
              "      <td>17</td>\n",
              "      <td>nov</td>\n",
              "      <td>1127</td>\n",
              "      <td>5</td>\n",
              "      <td>184</td>\n",
              "      <td>3</td>\n",
              "      <td>success</td>\n",
              "      <td>yes</td>\n",
              "    </tr>\n",
              "    <tr>\n",
              "      <th>45209</th>\n",
              "      <td>57</td>\n",
              "      <td>blue-collar</td>\n",
              "      <td>married</td>\n",
              "      <td>secondary</td>\n",
              "      <td>no</td>\n",
              "      <td>668</td>\n",
              "      <td>no</td>\n",
              "      <td>no</td>\n",
              "      <td>telephone</td>\n",
              "      <td>17</td>\n",
              "      <td>nov</td>\n",
              "      <td>508</td>\n",
              "      <td>4</td>\n",
              "      <td>-1</td>\n",
              "      <td>0</td>\n",
              "      <td>unknown</td>\n",
              "      <td>no</td>\n",
              "    </tr>\n",
              "    <tr>\n",
              "      <th>45210</th>\n",
              "      <td>37</td>\n",
              "      <td>entrepreneur</td>\n",
              "      <td>married</td>\n",
              "      <td>secondary</td>\n",
              "      <td>no</td>\n",
              "      <td>2971</td>\n",
              "      <td>no</td>\n",
              "      <td>no</td>\n",
              "      <td>cellular</td>\n",
              "      <td>17</td>\n",
              "      <td>nov</td>\n",
              "      <td>361</td>\n",
              "      <td>2</td>\n",
              "      <td>188</td>\n",
              "      <td>11</td>\n",
              "      <td>other</td>\n",
              "      <td>no</td>\n",
              "    </tr>\n",
              "  </tbody>\n",
              "</table>\n",
              "</div>\n",
              "    <div class=\"colab-df-buttons\">\n",
              "\n",
              "  <div class=\"colab-df-container\">\n",
              "    <button class=\"colab-df-convert\" onclick=\"convertToInteractive('df-e79eba6e-e318-4f75-9c3e-ae761748c63b')\"\n",
              "            title=\"Convert this dataframe to an interactive table.\"\n",
              "            style=\"display:none;\">\n",
              "\n",
              "  <svg xmlns=\"http://www.w3.org/2000/svg\" height=\"24px\" viewBox=\"0 -960 960 960\">\n",
              "    <path d=\"M120-120v-720h720v720H120Zm60-500h600v-160H180v160Zm220 220h160v-160H400v160Zm0 220h160v-160H400v160ZM180-400h160v-160H180v160Zm440 0h160v-160H620v160ZM180-180h160v-160H180v160Zm440 0h160v-160H620v160Z\"/>\n",
              "  </svg>\n",
              "    </button>\n",
              "\n",
              "  <style>\n",
              "    .colab-df-container {\n",
              "      display:flex;\n",
              "      gap: 12px;\n",
              "    }\n",
              "\n",
              "    .colab-df-convert {\n",
              "      background-color: #E8F0FE;\n",
              "      border: none;\n",
              "      border-radius: 50%;\n",
              "      cursor: pointer;\n",
              "      display: none;\n",
              "      fill: #1967D2;\n",
              "      height: 32px;\n",
              "      padding: 0 0 0 0;\n",
              "      width: 32px;\n",
              "    }\n",
              "\n",
              "    .colab-df-convert:hover {\n",
              "      background-color: #E2EBFA;\n",
              "      box-shadow: 0px 1px 2px rgba(60, 64, 67, 0.3), 0px 1px 3px 1px rgba(60, 64, 67, 0.15);\n",
              "      fill: #174EA6;\n",
              "    }\n",
              "\n",
              "    .colab-df-buttons div {\n",
              "      margin-bottom: 4px;\n",
              "    }\n",
              "\n",
              "    [theme=dark] .colab-df-convert {\n",
              "      background-color: #3B4455;\n",
              "      fill: #D2E3FC;\n",
              "    }\n",
              "\n",
              "    [theme=dark] .colab-df-convert:hover {\n",
              "      background-color: #434B5C;\n",
              "      box-shadow: 0px 1px 3px 1px rgba(0, 0, 0, 0.15);\n",
              "      filter: drop-shadow(0px 1px 2px rgba(0, 0, 0, 0.3));\n",
              "      fill: #FFFFFF;\n",
              "    }\n",
              "  </style>\n",
              "\n",
              "    <script>\n",
              "      const buttonEl =\n",
              "        document.querySelector('#df-e79eba6e-e318-4f75-9c3e-ae761748c63b button.colab-df-convert');\n",
              "      buttonEl.style.display =\n",
              "        google.colab.kernel.accessAllowed ? 'block' : 'none';\n",
              "\n",
              "      async function convertToInteractive(key) {\n",
              "        const element = document.querySelector('#df-e79eba6e-e318-4f75-9c3e-ae761748c63b');\n",
              "        const dataTable =\n",
              "          await google.colab.kernel.invokeFunction('convertToInteractive',\n",
              "                                                    [key], {});\n",
              "        if (!dataTable) return;\n",
              "\n",
              "        const docLinkHtml = 'Like what you see? Visit the ' +\n",
              "          '<a target=\"_blank\" href=https://colab.research.google.com/notebooks/data_table.ipynb>data table notebook</a>'\n",
              "          + ' to learn more about interactive tables.';\n",
              "        element.innerHTML = '';\n",
              "        dataTable['output_type'] = 'display_data';\n",
              "        await google.colab.output.renderOutput(dataTable, element);\n",
              "        const docLink = document.createElement('div');\n",
              "        docLink.innerHTML = docLinkHtml;\n",
              "        element.appendChild(docLink);\n",
              "      }\n",
              "    </script>\n",
              "  </div>\n",
              "\n",
              "\n",
              "<div id=\"df-2b883244-3f83-40cf-b482-719fca45bcdf\">\n",
              "  <button class=\"colab-df-quickchart\" onclick=\"quickchart('df-2b883244-3f83-40cf-b482-719fca45bcdf')\"\n",
              "            title=\"Suggest charts\"\n",
              "            style=\"display:none;\">\n",
              "\n",
              "<svg xmlns=\"http://www.w3.org/2000/svg\" height=\"24px\"viewBox=\"0 0 24 24\"\n",
              "     width=\"24px\">\n",
              "    <g>\n",
              "        <path d=\"M19 3H5c-1.1 0-2 .9-2 2v14c0 1.1.9 2 2 2h14c1.1 0 2-.9 2-2V5c0-1.1-.9-2-2-2zM9 17H7v-7h2v7zm4 0h-2V7h2v10zm4 0h-2v-4h2v4z\"/>\n",
              "    </g>\n",
              "</svg>\n",
              "  </button>\n",
              "\n",
              "<style>\n",
              "  .colab-df-quickchart {\n",
              "      --bg-color: #E8F0FE;\n",
              "      --fill-color: #1967D2;\n",
              "      --hover-bg-color: #E2EBFA;\n",
              "      --hover-fill-color: #174EA6;\n",
              "      --disabled-fill-color: #AAA;\n",
              "      --disabled-bg-color: #DDD;\n",
              "  }\n",
              "\n",
              "  [theme=dark] .colab-df-quickchart {\n",
              "      --bg-color: #3B4455;\n",
              "      --fill-color: #D2E3FC;\n",
              "      --hover-bg-color: #434B5C;\n",
              "      --hover-fill-color: #FFFFFF;\n",
              "      --disabled-bg-color: #3B4455;\n",
              "      --disabled-fill-color: #666;\n",
              "  }\n",
              "\n",
              "  .colab-df-quickchart {\n",
              "    background-color: var(--bg-color);\n",
              "    border: none;\n",
              "    border-radius: 50%;\n",
              "    cursor: pointer;\n",
              "    display: none;\n",
              "    fill: var(--fill-color);\n",
              "    height: 32px;\n",
              "    padding: 0;\n",
              "    width: 32px;\n",
              "  }\n",
              "\n",
              "  .colab-df-quickchart:hover {\n",
              "    background-color: var(--hover-bg-color);\n",
              "    box-shadow: 0 1px 2px rgba(60, 64, 67, 0.3), 0 1px 3px 1px rgba(60, 64, 67, 0.15);\n",
              "    fill: var(--button-hover-fill-color);\n",
              "  }\n",
              "\n",
              "  .colab-df-quickchart-complete:disabled,\n",
              "  .colab-df-quickchart-complete:disabled:hover {\n",
              "    background-color: var(--disabled-bg-color);\n",
              "    fill: var(--disabled-fill-color);\n",
              "    box-shadow: none;\n",
              "  }\n",
              "\n",
              "  .colab-df-spinner {\n",
              "    border: 2px solid var(--fill-color);\n",
              "    border-color: transparent;\n",
              "    border-bottom-color: var(--fill-color);\n",
              "    animation:\n",
              "      spin 1s steps(1) infinite;\n",
              "  }\n",
              "\n",
              "  @keyframes spin {\n",
              "    0% {\n",
              "      border-color: transparent;\n",
              "      border-bottom-color: var(--fill-color);\n",
              "      border-left-color: var(--fill-color);\n",
              "    }\n",
              "    20% {\n",
              "      border-color: transparent;\n",
              "      border-left-color: var(--fill-color);\n",
              "      border-top-color: var(--fill-color);\n",
              "    }\n",
              "    30% {\n",
              "      border-color: transparent;\n",
              "      border-left-color: var(--fill-color);\n",
              "      border-top-color: var(--fill-color);\n",
              "      border-right-color: var(--fill-color);\n",
              "    }\n",
              "    40% {\n",
              "      border-color: transparent;\n",
              "      border-right-color: var(--fill-color);\n",
              "      border-top-color: var(--fill-color);\n",
              "    }\n",
              "    60% {\n",
              "      border-color: transparent;\n",
              "      border-right-color: var(--fill-color);\n",
              "    }\n",
              "    80% {\n",
              "      border-color: transparent;\n",
              "      border-right-color: var(--fill-color);\n",
              "      border-bottom-color: var(--fill-color);\n",
              "    }\n",
              "    90% {\n",
              "      border-color: transparent;\n",
              "      border-bottom-color: var(--fill-color);\n",
              "    }\n",
              "  }\n",
              "</style>\n",
              "\n",
              "  <script>\n",
              "    async function quickchart(key) {\n",
              "      const quickchartButtonEl =\n",
              "        document.querySelector('#' + key + ' button');\n",
              "      quickchartButtonEl.disabled = true;  // To prevent multiple clicks.\n",
              "      quickchartButtonEl.classList.add('colab-df-spinner');\n",
              "      try {\n",
              "        const charts = await google.colab.kernel.invokeFunction(\n",
              "            'suggestCharts', [key], {});\n",
              "      } catch (error) {\n",
              "        console.error('Error during call to suggestCharts:', error);\n",
              "      }\n",
              "      quickchartButtonEl.classList.remove('colab-df-spinner');\n",
              "      quickchartButtonEl.classList.add('colab-df-quickchart-complete');\n",
              "    }\n",
              "    (() => {\n",
              "      let quickchartButtonEl =\n",
              "        document.querySelector('#df-2b883244-3f83-40cf-b482-719fca45bcdf button');\n",
              "      quickchartButtonEl.style.display =\n",
              "        google.colab.kernel.accessAllowed ? 'block' : 'none';\n",
              "    })();\n",
              "  </script>\n",
              "</div>\n",
              "\n",
              "    </div>\n",
              "  </div>\n"
            ],
            "application/vnd.google.colaboratory.intrinsic+json": {
              "type": "dataframe",
              "summary": "{\n  \"name\": \"# dataset\",\n  \"rows\": 5,\n  \"fields\": [\n    {\n      \"column\": \"age\",\n      \"properties\": {\n        \"dtype\": \"number\",\n        \"std\": 14,\n        \"min\": 37,\n        \"max\": 72,\n        \"num_unique_values\": 5,\n        \"samples\": [\n          71,\n          37,\n          72\n        ],\n        \"semantic_type\": \"\",\n        \"description\": \"\"\n      }\n    },\n    {\n      \"column\": \"job\",\n      \"properties\": {\n        \"dtype\": \"string\",\n        \"num_unique_values\": 4,\n        \"samples\": [\n          \"retired\",\n          \"entrepreneur\",\n          \"technician\"\n        ],\n        \"semantic_type\": \"\",\n        \"description\": \"\"\n      }\n    },\n    {\n      \"column\": \"marital\",\n      \"properties\": {\n        \"dtype\": \"category\",\n        \"num_unique_values\": 2,\n        \"samples\": [\n          \"divorced\",\n          \"married\"\n        ],\n        \"semantic_type\": \"\",\n        \"description\": \"\"\n      }\n    },\n    {\n      \"column\": \"education\",\n      \"properties\": {\n        \"dtype\": \"string\",\n        \"num_unique_values\": 3,\n        \"samples\": [\n          \"tertiary\",\n          \"primary\"\n        ],\n        \"semantic_type\": \"\",\n        \"description\": \"\"\n      }\n    },\n    {\n      \"column\": \"default\",\n      \"properties\": {\n        \"dtype\": \"category\",\n        \"num_unique_values\": 1,\n        \"samples\": [\n          \"no\"\n        ],\n        \"semantic_type\": \"\",\n        \"description\": \"\"\n      }\n    },\n    {\n      \"column\": \"balance\",\n      \"properties\": {\n        \"dtype\": \"number\",\n        \"std\": 2076,\n        \"min\": 668,\n        \"max\": 5715,\n        \"num_unique_values\": 5,\n        \"samples\": [\n          1729\n        ],\n        \"semantic_type\": \"\",\n        \"description\": \"\"\n      }\n    },\n    {\n      \"column\": \"housing\",\n      \"properties\": {\n        \"dtype\": \"category\",\n        \"num_unique_values\": 1,\n        \"samples\": [\n          \"no\"\n        ],\n        \"semantic_type\": \"\",\n        \"description\": \"\"\n      }\n    },\n    {\n      \"column\": \"loan\",\n      \"properties\": {\n        \"dtype\": \"category\",\n        \"num_unique_values\": 1,\n        \"samples\": [\n          \"no\"\n        ],\n        \"semantic_type\": \"\",\n        \"description\": \"\"\n      }\n    },\n    {\n      \"column\": \"contact\",\n      \"properties\": {\n        \"dtype\": \"category\",\n        \"num_unique_values\": 2,\n        \"samples\": [\n          \"telephone\"\n        ],\n        \"semantic_type\": \"\",\n        \"description\": \"\"\n      }\n    },\n    {\n      \"column\": \"day\",\n      \"properties\": {\n        \"dtype\": \"number\",\n        \"std\": 0,\n        \"min\": 17,\n        \"max\": 17,\n        \"num_unique_values\": 1,\n        \"samples\": [\n          17\n        ],\n        \"semantic_type\": \"\",\n        \"description\": \"\"\n      }\n    },\n    {\n      \"column\": \"month\",\n      \"properties\": {\n        \"dtype\": \"category\",\n        \"num_unique_values\": 1,\n        \"samples\": [\n          \"nov\"\n        ],\n        \"semantic_type\": \"\",\n        \"description\": \"\"\n      }\n    },\n    {\n      \"column\": \"duration\",\n      \"properties\": {\n        \"dtype\": \"number\",\n        \"std\": 342,\n        \"min\": 361,\n        \"max\": 1127,\n        \"num_unique_values\": 5,\n        \"samples\": [\n          456\n        ],\n        \"semantic_type\": \"\",\n        \"description\": \"\"\n      }\n    },\n    {\n      \"column\": \"campaign\",\n      \"properties\": {\n        \"dtype\": \"number\",\n        \"std\": 1,\n        \"min\": 2,\n        \"max\": 5,\n        \"num_unique_values\": 4,\n        \"samples\": [\n          2\n        ],\n        \"semantic_type\": \"\",\n        \"description\": \"\"\n      }\n    },\n    {\n      \"column\": \"pdays\",\n      \"properties\": {\n        \"dtype\": \"number\",\n        \"std\": 102,\n        \"min\": -1,\n        \"max\": 188,\n        \"num_unique_values\": 3,\n        \"samples\": [\n          -1\n        ],\n        \"semantic_type\": \"\",\n        \"description\": \"\"\n      }\n    },\n    {\n      \"column\": \"previous\",\n      \"properties\": {\n        \"dtype\": \"number\",\n        \"std\": 4,\n        \"min\": 0,\n        \"max\": 11,\n        \"num_unique_values\": 3,\n        \"samples\": [\n          0\n        ],\n        \"semantic_type\": \"\",\n        \"description\": \"\"\n      }\n    },\n    {\n      \"column\": \"poutcome\",\n      \"properties\": {\n        \"dtype\": \"string\",\n        \"num_unique_values\": 3,\n        \"samples\": [\n          \"unknown\"\n        ],\n        \"semantic_type\": \"\",\n        \"description\": \"\"\n      }\n    },\n    {\n      \"column\": \"y\",\n      \"properties\": {\n        \"dtype\": \"category\",\n        \"num_unique_values\": 2,\n        \"samples\": [\n          \"no\"\n        ],\n        \"semantic_type\": \"\",\n        \"description\": \"\"\n      }\n    }\n  ]\n}"
            }
          },
          "metadata": {},
          "execution_count": 36
        }
      ],
      "source": [
        "dataset = pd.read_csv(\"bank.csv\")\n",
        "# dataset.head() #prints first 5 rows\n",
        "dataset.tail() #prints last 5 rows\n",
        "# dataset.info() #prints information about the dataset"
      ]
    },
    {
      "cell_type": "code",
      "execution_count": null,
      "metadata": {
        "id": "NfKKpn2Fb2op"
      },
      "outputs": [],
      "source": [
        "data = {'Name': ['Alice', 'Bob', 'Charlie'], 'City': ['New York', 'San Francisco', 'Los Angeles']}\n",
        "df = pd.DataFrame(data)\n",
        "df.to_csv('output.csv', index=False); #writes the data to a csv file"
      ]
    },
    {
      "cell_type": "code",
      "execution_count": 13,
      "metadata": {
        "colab": {
          "base_uri": "https://localhost:8080/"
        },
        "id": "ysR6tB4Ob2oq",
        "outputId": "f11aeb9b-138e-4baf-fd37-f104608d749d"
      },
      "outputs": [
        {
          "output_type": "stream",
          "name": "stdout",
          "text": [
            "df.head\n",
            "    Name  Age  Salary\n",
            "0  Alice   25   50000\n",
            "1    Bob   30   60000\n",
            "df.tail\n",
            "      Name  Age  Salary\n",
            "2  Charlie   35   70000\n",
            "df.info\n",
            "<class 'pandas.core.frame.DataFrame'>\n",
            "RangeIndex: 3 entries, 0 to 2\n",
            "Data columns (total 3 columns):\n",
            " #   Column  Non-Null Count  Dtype \n",
            "---  ------  --------------  ----- \n",
            " 0   Name    3 non-null      object\n",
            " 1   Age     3 non-null      int64 \n",
            " 2   Salary  3 non-null      int64 \n",
            "dtypes: int64(2), object(1)\n",
            "memory usage: 200.0+ bytes\n",
            "None\n",
            "df.describe\n",
            "        Age   Salary\n",
            "count   3.0      3.0\n",
            "mean   30.0  60000.0\n",
            "std     5.0  10000.0\n",
            "min    25.0  50000.0\n",
            "25%    27.5  55000.0\n",
            "50%    30.0  60000.0\n",
            "75%    32.5  65000.0\n",
            "max    35.0  70000.0\n",
            "The DataFrame has 3 rows and 3 columns.\n"
          ]
        }
      ],
      "source": [
        "# Sample DataFrame\n",
        "data = {\n",
        "\t'Name': ['Alice', 'Bob', 'Charlie'],\n",
        "\t'Age': [25, 30, 35],\n",
        "\t'Salary': [50000, 60000, 70000]\n",
        "}\n",
        "df = pd.DataFrame(data)\n",
        "# View the first two rows\n",
        "print(\"df.head\")\n",
        "print(df.head(2))\n",
        "# View the last row\n",
        "print(\"df.tail\")\n",
        "print(df.tail(1))\n",
        "# DataFrame information\n",
        "print(\"df.info\")\n",
        "print(df.info())\n",
        "# Summary statistics\n",
        "print(\"df.describe\")\n",
        "print(df.describe())\n",
        "# Check dimensions of the DataFrame\n",
        "print(f\"The DataFrame has {df.shape[0]} rows and {df.shape[1]} columns.\")"
      ]
    },
    {
      "cell_type": "code",
      "execution_count": 19,
      "metadata": {
        "colab": {
          "base_uri": "https://localhost:8080/"
        },
        "id": "a7c1_hZVb2oq",
        "outputId": "aa6e9341-8fd8-4931-ff1b-8ce76879396f"
      },
      "outputs": [
        {
          "output_type": "stream",
          "name": "stdout",
          "text": [
            "0    25\n",
            "1    30\n",
            "2    35\n",
            "Name: Age, dtype: int64\n",
            "Name      Alice\n",
            "Age          25\n",
            "Salary    50000\n",
            "Name: 0, dtype: object\n",
            "      Name  Age  Salary\n",
            "2  Charlie   35   70000\n",
            "      Name  Age  Salary\n",
            "1      Bob   30   60000\n",
            "2  Charlie   35   70000\n",
            "      Name  Salary\n",
            "0    Alice   50000\n",
            "1      Bob   60000\n",
            "2  Charlie   70000\n",
            "      Name  Age\n",
            "0    Alice   25\n",
            "1      Bob   30\n",
            "2  Charlie   35\n",
            "      Name  Age  Salary\n",
            "0    Alice   25   50000\n",
            "2  Charlie   35   70000\n"
          ]
        }
      ],
      "source": [
        "data = {\n",
        "\t'Name': ['Alice', 'Bob', 'Charlie'],\n",
        "\t'Age': [25, 30, 35],\n",
        "\t'Salary': [50000, 60000, 70000]\n",
        "}\n",
        "df = pd.DataFrame(data)\n",
        "print(df[\"Age\"])\n",
        "# Select rows by numerical index\n",
        "print(df.iloc[0])\n",
        "# Select rows by condition\n",
        "print(df.loc[df[\"Age\"] >30])\n",
        "filteredRows = df[df[\"Age\"] > 28]\n",
        "print(filteredRows)\n",
        "\n",
        "#select only name and salry columns\n",
        "selected_columns = df[[\"Name\", \"Salary\"]]\n",
        "print(selected_columns)\n",
        "\n",
        "#drop salary column\n",
        "df_without_salary = df.drop(columns=[\"Salary\"])\n",
        "print(df_without_salary)\n",
        "#Drop the row with index 1 (Bob)\n",
        "df_without_bob = df.drop(index=1)\n",
        "print(df_without_bob)"
      ]
    },
    {
      "cell_type": "code",
      "execution_count": 20,
      "metadata": {
        "colab": {
          "base_uri": "https://localhost:8080/"
        },
        "id": "tzeoPGBrb2oq",
        "outputId": "4b1f4343-f704-4b58-9231-e6bc0676a512"
      },
      "outputs": [
        {
          "output_type": "stream",
          "name": "stdout",
          "text": [
            "      Name  Age  Salary   Bonus\n",
            "0    Alice   25   50000  5000.0\n",
            "1      Bob   30   60000  6000.0\n",
            "2  Charlie   35   70000  7000.0\n"
          ]
        }
      ],
      "source": [
        "data = {\n",
        "\t'Name': ['Alice', 'Bob', 'Charlie'],\n",
        "\t'Age': [25, 30, 35],\n",
        "\t'Salary': [50000, 60000, 70000]\n",
        "}\n",
        "df = pd.DataFrame(data)\n",
        "\n",
        "# Add new column for bonus\n",
        "df[\"Bonus\"] = df[\"Salary\"] * 0.1\n",
        "print(df)"
      ]
    },
    {
      "cell_type": "code",
      "execution_count": 21,
      "metadata": {
        "colab": {
          "base_uri": "https://localhost:8080/"
        },
        "id": "GhxODdKrb2oq",
        "outputId": "add32c1e-ef9e-4ddf-f909-93cdf52d6e33"
      },
      "outputs": [
        {
          "output_type": "stream",
          "name": "stdout",
          "text": [
            "Iris Dataset:      sepal length (cm)  sepal width (cm)  petal length (cm)  petal width (cm)  \\\n",
            "0                  5.1               3.5                1.4               0.2   \n",
            "1                  4.9               3.0                1.4               0.2   \n",
            "2                  4.7               3.2                1.3               0.2   \n",
            "3                  4.6               3.1                1.5               0.2   \n",
            "4                  5.0               3.6                1.4               0.2   \n",
            "..                 ...               ...                ...               ...   \n",
            "145                6.7               3.0                5.2               2.3   \n",
            "146                6.3               2.5                5.0               1.9   \n",
            "147                6.5               3.0                5.2               2.0   \n",
            "148                6.2               3.4                5.4               2.3   \n",
            "149                5.9               3.0                5.1               1.8   \n",
            "\n",
            "     target  \n",
            "0       0.0  \n",
            "1       0.0  \n",
            "2       0.0  \n",
            "3       0.0  \n",
            "4       0.0  \n",
            "..      ...  \n",
            "145     2.0  \n",
            "146     2.0  \n",
            "147     2.0  \n",
            "148     2.0  \n",
            "149     2.0  \n",
            "\n",
            "[150 rows x 5 columns]\n",
            "Missing Values in Iris Dataset:\n",
            "sepal length (cm)    15\n",
            "sepal width (cm)     15\n",
            "petal length (cm)    19\n",
            "petal width (cm)     15\n",
            "target               19\n",
            "dtype: int64\n"
          ]
        }
      ],
      "source": [
        "\n",
        "\n",
        "\n",
        "from sklearn.datasets import load_iris\n",
        "import numpy as np\n",
        "\n",
        "iris = load_iris() # Load the Iris dataset\n",
        "iris_df = pd.DataFrame(data=np.c_[iris['data'], iris['target']], columns=iris['feature_names'] + ['target'])\n",
        "print(\"Iris Dataset:\" ,iris_df)\n",
        "np.random.seed(42) # Introduce missing values randomly\n",
        "mask = np.random.rand(*iris_df.shape) < 0.1 # 10%\n",
        "iris_df[mask] = np.nan\n",
        "\n",
        "print(\"Missing Values in Iris Dataset:\")\n",
        "print(iris_df.isnull().sum())"
      ]
    },
    {
      "cell_type": "code",
      "execution_count": 29,
      "metadata": {
        "colab": {
          "base_uri": "https://localhost:8080/"
        },
        "id": "DsbriUIsb2oq",
        "outputId": "07b5f392-6e9c-46e6-a84c-43ad019ebc33"
      },
      "outputs": [
        {
          "output_type": "stream",
          "name": "stdout",
          "text": [
            "Index(['job', 'marital', 'education', 'default', 'housing', 'loan', 'contact',\n",
            "       'month', 'poutcome', 'y'],\n",
            "      dtype='object')\n",
            "job: 12 unique values\n",
            "marital: 3 unique values\n",
            "education: 4 unique values\n",
            "default: 2 unique values\n",
            "housing: 2 unique values\n",
            "loan: 2 unique values\n",
            "contact: 3 unique values\n",
            "month: 12 unique values\n",
            "poutcome: 4 unique values\n",
            "y: 2 unique values\n",
            "age          0\n",
            "job          0\n",
            "marital      0\n",
            "education    0\n",
            "default      0\n",
            "balance      0\n",
            "housing      0\n",
            "loan         0\n",
            "contact      0\n",
            "day          0\n",
            "month        0\n",
            "duration     0\n",
            "campaign     0\n",
            "pdays        0\n",
            "previous     0\n",
            "poutcome     0\n",
            "y            0\n",
            "dtype: int64\n"
          ]
        }
      ],
      "source": [
        "# worksheet 1\n",
        "#1.1\n",
        "df = pd.read_csv(\"bank.csv\")\n",
        "#1.2.1\n",
        "#columns with dtypes=object\n",
        "print(df.select_dtypes(include='object').columns)\n",
        "#1.2.2\n",
        "for col in df.select_dtypes(include='object'):\n",
        "    print(f\"{col}: {df[col].nunique()} unique values\")\n",
        "#1.2.3\n",
        "print(df.isnull().sum())"
      ]
    },
    {
      "cell_type": "code",
      "execution_count": 28,
      "metadata": {
        "colab": {
          "base_uri": "https://localhost:8080/"
        },
        "id": "a3QHEqfOb2or",
        "outputId": "29f801e5-792b-4d22-82a0-b3d4eeb49a1d"
      },
      "outputs": [
        {
          "output_type": "stream",
          "name": "stdout",
          "text": [
            "       Student ID   Age      Height     Weight        BMI  Temperature  \\\n",
            "0             1.0  18.0  161.777924  72.354947  27.645835          NaN   \n",
            "1             2.0  18.0  152.069157  47.630941  27.645835    98.714977   \n",
            "2             3.0  32.0  182.537664  55.741083  16.729017    98.260293   \n",
            "3             3.0  30.0  182.112867  63.332207  19.096042    98.839605   \n",
            "4             5.0  23.0  182.112867  46.234173  19.096042    98.480008   \n",
            "...           ...   ...         ...        ...        ...          ...   \n",
            "87460     87461.0  21.0  178.823613  63.136732  19.743874    97.983667   \n",
            "87461     87462.0  33.0  181.334903  44.650677  13.578920    98.832283   \n",
            "87462     87463.0  34.0  154.612016  85.940007  13.578920    98.832283   \n",
            "87463     87464.0  24.0  170.084026  93.435422  13.578920    98.832283   \n",
            "87464     87465.0  21.0  198.010816  97.075100  13.578920    98.832283   \n",
            "\n",
            "       Heart Rate  Blood Pressure  Cholesterol  \n",
            "0            95.0           109.0        203.0  \n",
            "1            93.0           104.0        163.0  \n",
            "2            76.0           130.0        216.0  \n",
            "3            99.0           112.0        141.0  \n",
            "4            95.0           112.0        231.0  \n",
            "...           ...             ...          ...  \n",
            "87460        65.0           123.0        248.0  \n",
            "87461        99.0           103.0        246.0  \n",
            "87462        77.0            91.0        235.0  \n",
            "87463        77.0           129.0        140.0  \n",
            "87464        77.0           129.0        140.0  \n",
            "\n",
            "[87465 rows x 9 columns]\n",
            "         Student ID           Age        Height        Weight           BMI  \\\n",
            "count  87465.000000  87465.000000  87465.000000  87465.000000  87465.000000   \n",
            "mean   43732.889659     26.011467    174.944387     69.959621     23.317141   \n",
            "std    25249.114619      4.883624     14.447935     17.338812      7.020895   \n",
            "min        1.000000     18.000000    150.000329     40.000578     10.074837   \n",
            "25%    21867.000000     22.000000    162.421734     54.933660     17.849072   \n",
            "50%    43733.000000     26.000000    174.906009     69.939657     22.662040   \n",
            "75%    65599.000000     30.000000    187.456733     84.992060     27.969600   \n",
            "max    87465.000000     34.000000    199.997940     99.999460     44.314074   \n",
            "\n",
            "        Temperature    Heart Rate  Blood Pressure   Cholesterol  \n",
            "count  87464.000000  87465.000000    87465.000000  87465.000000  \n",
            "mean      98.601024     79.472589      114.577397    184.471423  \n",
            "std        0.500115     11.545535       14.381572     37.517000  \n",
            "min       96.397835     60.000000       90.000000    120.000000  \n",
            "25%       98.265497     70.000000      102.000000    152.000000  \n",
            "50%       98.599815     79.000000      115.000000    184.000000  \n",
            "75%       98.938903     90.000000      127.000000    217.000000  \n",
            "max      100.773765     99.000000      139.000000    249.000000  \n"
          ]
        }
      ],
      "source": [
        "# 1.3\n",
        "df_withno_dtype_object = df.drop(columns=df.select_dtypes(include='object'))\n",
        "\n",
        "print(df_withno_dtype_object)\n",
        "df_withno_dtype_object.to_csv('banknumericdata.csv',index=False)\n",
        "\n",
        "df = pd.read_csv(\"banknumericdata.csv\")\n",
        "print(df.describe())\n"
      ]
    },
    {
      "cell_type": "code",
      "execution_count": 30,
      "metadata": {
        "colab": {
          "base_uri": "https://localhost:8080/"
        },
        "id": "ZLIzJO8ib2or",
        "outputId": "78923558-1a8f-479e-90de-dc969da1caea"
      },
      "outputs": [
        {
          "output_type": "stream",
          "name": "stdout",
          "text": [
            "<class 'pandas.core.frame.DataFrame'>\n",
            "RangeIndex: 200000 entries, 0 to 199999\n",
            "Data columns (total 13 columns):\n",
            " #   Column          Non-Null Count   Dtype  \n",
            "---  ------          --------------   -----  \n",
            " 0   Student ID      180000 non-null  float64\n",
            " 1   Age             180000 non-null  float64\n",
            " 2   Gender          180000 non-null  object \n",
            " 3   Height          180000 non-null  float64\n",
            " 4   Weight          180000 non-null  float64\n",
            " 5   Blood Type      180000 non-null  object \n",
            " 6   BMI             180000 non-null  float64\n",
            " 7   Temperature     180000 non-null  float64\n",
            " 8   Heart Rate      180000 non-null  float64\n",
            " 9   Blood Pressure  180000 non-null  float64\n",
            " 10  Cholesterol     180000 non-null  float64\n",
            " 11  Diabetes        180000 non-null  object \n",
            " 12  Smoking         180000 non-null  object \n",
            "dtypes: float64(9), object(4)\n",
            "memory usage: 19.8+ MB\n",
            "None\n",
            "Student ID        20000\n",
            "Age               20000\n",
            "Gender            20000\n",
            "Height            20000\n",
            "Weight            20000\n",
            "Blood Type        20000\n",
            "BMI               20000\n",
            "Temperature       20000\n",
            "Heart Rate        20000\n",
            "Blood Pressure    20000\n",
            "Cholesterol       20000\n",
            "Diabetes          20000\n",
            "Smoking           20000\n",
            "dtype: int64\n",
            "Student ID        0\n",
            "Age               0\n",
            "Gender            0\n",
            "Height            0\n",
            "Weight            0\n",
            "Blood Type        0\n",
            "BMI               0\n",
            "Temperature       1\n",
            "Heart Rate        0\n",
            "Blood Pressure    0\n",
            "Cholesterol       0\n",
            "Diabetes          0\n",
            "Smoking           1\n",
            "dtype: int64\n"
          ]
        },
        {
          "output_type": "stream",
          "name": "stderr",
          "text": [
            "<ipython-input-30-439eb561fb98>:14: FutureWarning: DataFrame.fillna with 'method' is deprecated and will raise in a future version. Use obj.ffill() or obj.bfill() instead.\n",
            "  df.fillna(method='ffill', inplace=True)\n"
          ]
        },
        {
          "output_type": "stream",
          "name": "stdout",
          "text": [
            "duplicate 12112\n",
            "after dropping duplicate 0\n"
          ]
        }
      ],
      "source": [
        "#2\n",
        "#2.1\n",
        "df = pd.read_csv(\"medical_students_dataset.csv\")\n",
        "#2.2\n",
        "#Check info of the DataFrame and identify column with missing (null) values.\n",
        "print(df.info())\n",
        "\n",
        "#2.3\n",
        "\n",
        "print(df.isnull().sum())\n",
        "\n",
        "\n",
        "# Fill all missing values with forward fill method\n",
        "df.fillna(method='ffill', inplace=True)\n",
        "\n",
        "print(df.isnull().sum())\n",
        "\n",
        "# 2.4\n",
        "# Check for any duplicate values present in Dataset and do necessary to manage the duplicate items.\n",
        "print(\"duplicate\",df.duplicated().sum())\n",
        "df.drop_duplicates(inplace=True)\n",
        "print(\"after dropping duplicate\",df.duplicated().sum())\n",
        "\n"
      ]
    },
    {
      "cell_type": "code",
      "execution_count": 31,
      "metadata": {
        "id": "aclk9oWYb2or"
      },
      "outputs": [],
      "source": [
        "# 3.1\n",
        "# Load the Titanic dataset\n",
        "titanic_data = pd.read_csv(\"Titanic-Dataset.csv\")\n",
        "\n",
        "# Subset DataFrame and calculate statistics for 'Fare'\n",
        "subset_data = titanic_data[['Name', 'Pclass', 'Sex', 'Age', 'Fare', 'Survived']]\n",
        "first_class_data = subset_data[subset_data['Pclass'] == 1]\n",
        "fare_mean = first_class_data['Fare'].mean()\n",
        "fare_median = first_class_data['Fare'].median()\n",
        "fare_max = first_class_data['Fare'].max()\n",
        "fare_min = first_class_data['Fare'].min()\n",
        "\n",
        "\n",
        "# 3.2 Check for null values in 'Age' and drop rows with null 'Age'\n",
        "null_age_count = first_class_data['Age'].isnull().sum()\n",
        "cleaned_data = first_class_data.dropna(subset=['Age'])\n",
        "\n",
        "# 3.3 One-hot encoding for 'Embarked'\n",
        "embarked_onehot = pd.get_dummies(titanic_data['Embarked'], prefix='Embarked')\n",
        "titanic_data = pd.concat([titanic_data, embarked_onehot], axis=1)\n",
        "titanic_data.drop(columns=['Embarked'], inplace=True)\n",
        "\n",
        "\n",
        "\n"
      ]
    },
    {
      "cell_type": "code",
      "execution_count": 32,
      "metadata": {
        "colab": {
          "base_uri": "https://localhost:8080/",
          "height": 472
        },
        "id": "DOprSWqmb2or",
        "outputId": "7f64962a-4d3b-40e6-f0a1-bad19a95f94d"
      },
      "outputs": [
        {
          "output_type": "display_data",
          "data": {
            "text/plain": [
              "<Figure size 640x480 with 1 Axes>"
            ],
            "image/png": "[encoded data removed]"
          },
          "metadata": {}
        }
      ],
      "source": [
        "# QN4 Compare survival rates by gender\n",
        "import matplotlib.pyplot as plt\n",
        "\n",
        "# Group data by 'Sex' and calculate mean survival rates\n",
        "survival_by_gender = titanic_data.groupby('Sex')['Survived'].mean()\n",
        "\n",
        "# Create a bar chart for survival rates by gender using Matplotlib\n",
        "plt.bar(survival_by_gender.index, survival_by_gender.values, color=['pink', 'blue'])\n",
        "plt.title('Survival Rates by Gender')\n",
        "plt.xlabel('Gender')\n",
        "plt.ylabel('Survival Rate')\n",
        "plt.show()\n",
        "\n"
      ]
    },
    {
      "cell_type": "code",
      "execution_count": 35,
      "metadata": {
        "colab": {
          "base_uri": "https://localhost:8080/",
          "height": 472
        },
        "id": "1og3zQi8b2or",
        "outputId": "ede0e41f-38ad-409f-f603-020f837ebd64"
      },
      "outputs": [
        {
          "output_type": "display_data",
          "data": {
            "text/plain": [
              "<Figure size 640x480 with 1 Axes>"
            ],
            "image/png": "[encoded data removed]"
          },
          "metadata": {}
        }
      ],
      "source": [
        "#ON5\n",
        "survival_by_port = titanic_data.groupby(['Embarked_C', 'Embarked_Q', 'Embarked_S'])['Survived'].mean()\n",
        "\n",
        "# Calculate survival rates for each port of embarkation\n",
        "embarked_labels = ['Cherbourg', 'Queenstown', 'Southampton']\n",
        "survival_rates = [\n",
        "    titanic_data[titanic_data['Embarked_C'] == 1]['Survived'].mean(),\n",
        "    titanic_data[titanic_data['Embarked_Q'] == 1]['Survived'].mean(),\n",
        "    titanic_data[titanic_data['Embarked_S'] == 1]['Survived'].mean()\n",
        "]\n",
        "\n",
        "# Create a bar chart for survival rates by port\n",
        "plt.bar(embarked_labels, survival_rates, color=['black', 'yellow', 'blue'])\n",
        "plt.title('Survival Rates by Port of Embarkation')\n",
        "plt.xlabel('Port')\n",
        "plt.ylabel('Survival Rate')\n",
        "plt.show()\n",
        "\n"
      ]
    }
  ],
  "metadata": {
    "kernelspec": {
      "display_name": "Python 3",
      "language": "python",
      "name": "python3"
    },
    "language_info": {
      "codemirror_mode": {
        "name": "ipython",
        "version": 3
      },
      "file_extension": ".py",
      "mimetype": "text/x-python",
      "name": "python",
      "nbconvert_exporter": "python",
      "pygments_lexer": "ipython3",
      "version": "3.12.6"
    },
    "colab": {
      "provenance": []
    }
  },
  "nbformat": 4,
  "nbformat_minor": 0
}